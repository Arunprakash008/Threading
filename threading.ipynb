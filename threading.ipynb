from time import sleep
from   threading   import Thread

class Hello(Thread):
  def run(self):
    for i in range(1):
      print("Hello")
      sleep(1)

class Hi(Thread):
  def run(self):
    for i in range(1):
      print("Hi")
      sleep(1)
class Good_Morning(Thread):
  def run(self):
    for i in range(1):
      print("Good Morning")
      sleep(1)

t1=Hi()
t2=Hello()
t3=Good_Morning()

t1.start()
sleep(0.1)
t2.start()
sleep(0.1)
t3.start()

t1.join()
t2.join()
t3.join()

print("bye")
